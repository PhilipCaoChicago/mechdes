{
 "cells": [
  {
   "cell_type": "markdown",
   "metadata": {},
   "source": [
    "# Contest with risk averse bidders and non-monetary effort"
   ]
  },
  {
   "cell_type": "markdown",
   "metadata": {},
   "source": [
    "Here we use a simple example where contestants are risk averse with respect to prize money. Put differently, the expected utility of a contestant with cost parameter $c_i$ when exerting effort $x_i$ is $p_1(x_i) u(V_1)+p_2(x_i) u(V_2)-c_i x_i$ where $p_j(x_i)$ is the probability of winning $j$'th prize when exertin effort $x_i$ (given the equilibrium strategies of the other contestants) and $u$ is a strictly increasing and concave Bernoulli utility function. The contestant is risk averse with respect to prize money because $u$ is concave.\n",
    "\n",
    "In this model, the costs of effort are non-monetary and certain. The only uncertain part is which prize (if any) the contestant wins. (If the cost of effort was monetary, we would have to use the utility function $p_1(x_i) u(V_1-c_i x_i)+p_2(x_i) u(V_2-c_i x_i)$ which would complicate the analysis).\n",
    "\n",
    "The model with non-monetary effort cost is relatively simple because the game of the contestants (for given prizes $V_1$ and $V_2$) is the same as in Moldovanu and Sella: Instead of $V_1$ we simply have to use $W_1=u(V_1)$ and instead of $V_2$ we use $W_2=u(V_2)$. The same analysis as in the paper gives the equilibrium strategies for the contestants $b(c) = A(c)W_1+B(c)W_2$ where $A(c)$ and $B(c)$ are as in the paper. The only small difference is in the designer's problem: The constraint that the total prize money equals 1 states $V_1+V_2=1$ which in terms of $W_j$ reads $u^{-1}(W_1)+u^{-1}(W_2)=1$. Hence, the constraint when optimizing over $W_1$ and $W_2$ is $W_2=u(1-u^{-1}(W_1))$.\n",
    "\n",
    "The code below computes the optimal first and second prizes if cost parameters are iid uniformly distributed between 0.5 and 1 and there are 3 contestants. Here we get an interior solution: the first prize is $\\approx 2/3$ and the second prize $\\approx 1/3$. The intuition is that giving more prize money to the good types (via a higher first prize) does not give a lot of additional utility to them (because $u$ is concave, i.e. the marginal utility is decreasing). However, the marginal utility of the second prize is rather high (with the square root utility below it is actually infinite at 0) and can therefore motivate contestants (in particular those with medium and high cost parameters) considerably."
   ]
  },
  {
   "cell_type": "code",
   "execution_count": null,
   "metadata": {
    "collapsed": false
   },
   "outputs": [],
   "source": [
    "#load plotting package\n",
    "using PyPlot\n",
    "#load optimization package\n",
    "using Optim\n",
    "\n",
    "#########Setting up the primitives of the model#############\n",
    "\n",
    "#lower bound type distribution\n",
    "const m = 0.5\n",
    "\n",
    "#number of contestants\n",
    "const k = 3\n",
    "\n",
    "#cdf of type distribution; here uniform\n",
    "function F(a::Float64)\n",
    "    if m<= a<= 1.0\n",
    "        return (a-m)/(1.0-m)\n",
    "    elseif a<m\n",
    "        return 0.0\n",
    "    else \n",
    "        return 1.0\n",
    "    end\n",
    "end\n",
    "\n",
    "#pdf of type distribution; here uniform\n",
    "function f(a::Float64)\n",
    "    if m<= a<= 1.0\n",
    "        return 1.0/(1.0-m)\n",
    "    else \n",
    "        return 0.0\n",
    "    end\n",
    "end    \n",
    "\n",
    "#Bernoulli utility of prize money; here √x\n",
    "function u(x::Float64)\n",
    "    return sqrt(x)\n",
    "end\n",
    "\n",
    "#inverse of the Bernoulli utility function of prize money; here x^2\n",
    "function uinv(v::Float64)\n",
    "    return v^2\n",
    "end\n",
    "\n",
    "############Setting up the equilibrium strategies of the contestants###########\n",
    "A(c) = (k-1)*quadgk(a-> (1-F(a))^(k-2) * f(a)/a,c,1)[1]\n",
    "B(c) = (k-1)*quadgk(a-> (1-F(a))^(k-3) * ((k-1)*F(a)-1) * f(a)/a,c,1)[1]\n",
    "\n",
    "b(W1,W2,c) = A(c)*W1 + B(c)*W2\n",
    "\n",
    "####### Designer's problem ########\n",
    "#this function returns the expected effort of a participant multiplied with -1 (as the optimization procedure below searches for the minimum)\n",
    "function minusobjective(W1::Float64)\n",
    "    function wrapped_objective(c::Float64)\n",
    "        return b(W1,u(1.0-uinv(W1)),c)*f(c) #note that W2 = u(1.0-uinv(W1)) by the constraint V1+V2=1\n",
    "    end\n",
    "    return (-1.0)*quadgk(wrapped_objective,m,1)[1]\n",
    "end\n",
    "\n",
    "#result to optimization problem (minimizes \"minusobjective\" with W1 between u(0.5) and u(1.0); note that V1 cannot be less than 0.5)\n",
    "r = optimize(minusobjective,u(0.5),u(1.0))\n",
    "\n",
    "println(\" \")\n",
    "println(\"Optimal first prize is \", uinv(r.minimum))\n",
    "println(\"Optimal second prize is \", 1.0-uinv(r.minimum))\n",
    "\n",
    "#for plotting: returns average effort of a contestant if first prize is V1\n",
    "function plotobjective(V1::Float64)\n",
    "    return (-1.0)*minusobjective(u(V1))\n",
    "end\n",
    "function plotobjective(V1::FloatRange{Float64})\n",
    "    return [(-1.0)*minusobjective(u(v)) for v in V1]\n",
    "end\n",
    "\n",
    "fig, ax = subplots()\n",
    "ax[:set_xlabel](\"first prize\")\n",
    "ax[:set_ylabel](\"expected effort\")\n",
    "ax[:plot](0.0:0.01:1.0,plotobjective(0.0:0.01:1.0),\"b-\",linewidth=2,alpha=0.5)\n"
   ]
  },
  {
   "cell_type": "markdown",
   "metadata": {},
   "source": [
    "# Contests with risk averse contestants and monetary effort"
   ]
  },
  {
   "cell_type": "code",
   "execution_count": 3,
   "metadata": {
    "collapsed": false
   },
   "outputs": [
    {
     "name": "stdout",
     "output_type": "stream",
     "text": [
      "a monotone equilibrium was not attained at V1 = 0.9 and V2 = 0.1\n",
      "a monotone equilibrium was not attained at V1 = 0."
     ]
    },
    {
     "ename": "LoadError",
     "evalue": "LoadError: MethodError: `getindex` has no method matching getindex(::Void, ::Float64)\nwhile loading In[3], in expression starting on line 93",
     "output_type": "error",
     "traceback": [
      "LoadError: MethodError: `getindex` has no method matching getindex(::Void, ::Float64)\nwhile loading In[3], in expression starting on line 93",
      "",
      " in wrapped_objective at In[3]:87",
      " in evalrule at quadgk.jl:55",
      " in do_quadgk at quadgk.jl:121",
      " in quadgk at quadgk.jl:176",
      " in minusobjective at In[3]:89",
      " in __brent#16__ at /home/christoph/.julia/v0.4/Optim/src/brent.jl:44",
      " in optimize at /home/christoph/.julia/v0.4/Optim/src/optimize.jl:601"
     ]
    },
    {
     "name": "stdout",
     "output_type": "stream",
     "text": [
      "6909830056250525 and V2 = 0.30901699437494745\n"
     ]
    }
   ],
   "source": [
    "#load plotting package\n",
    "using PyPlot\n",
    "#load optimization package\n",
    "using Optim\n",
    "#interpolation package used for solving differential equation\n",
    "using Interpolations\n",
    "\n",
    "#########Setting up the primitives of the model#############\n",
    "\n",
    "#lower bound type distribution\n",
    "const m = 0.5\n",
    "\n",
    "#number of contestants\n",
    "const k = 3\n",
    "\n",
    "#cdf of type distribution; here uniform\n",
    "function F(a::Float64)\n",
    "    if m<= a<= 1.0\n",
    "        return (a-m)/(1.0-m)\n",
    "    elseif a<m\n",
    "        return 0.0\n",
    "    else \n",
    "        return 1.0\n",
    "    end\n",
    "end\n",
    "\n",
    "#pdf of type distribution; here uniform\n",
    "function f(a::Float64)\n",
    "    if m<= a<= 1.0\n",
    "        return 1.0/(1.0-m)\n",
    "    else \n",
    "        return 0.0\n",
    "    end\n",
    "end    \n",
    "\n",
    "#degree of risk aversion\n",
    "const eta = 1.0\n",
    "\n",
    "#Bernoulli utility of prize money; here CARA\n",
    "function u(x::Float64)\n",
    "    return - e^(- eta*x)\n",
    "end\n",
    "\n",
    "#Derivative of Bernoulli utility \n",
    "function up(x::Float64)\n",
    "    return eta*e^(-eta*x)\n",
    "end\n",
    "\n",
    "#inverse of the Bernoulli utility function of prize money; here x^2\n",
    "function uinv(v::Float64)\n",
    "    return -log(-v)/eta\n",
    "end\n",
    "\n",
    "\n",
    "###symmetric equilibrium strategies of the contestants####\n",
    "\n",
    "#returns the foc solved for y'\n",
    "function foc_yp(x::Float64,y::Float64,V1::Float64,V2::Float64)\n",
    "    numerator = up(V1-y*x)*y*(1-F(y))^(k-1)+up(V2-y*x)*y*(k-1)*(1-F(y))^(k-2)*F(y)+up(-y*x)*(1-(1-F(y))^(k-1)-(k-1)*(1-F(y))^(k-2)*F(y))\n",
    "    denominator = -(u(V1-x*y)-u(-x*y))*(k-1)*(1-F(y)^(k-2)*f(y))-(u(V2-x*y)-u(-x*y))*(k-1)*(k-2)*(1-F(y))^(k-3)*F(y)*f(y)+(u(V2-x*y)-u(-x*y))*(k-1)*(1-F(y))^(k-2)*f(y)\n",
    "    return numerator/denominator\n",
    "end\n",
    "\n",
    "#given intial condition b(1.0)=0, this uses the foc to solve for the equilibrium bidding function\n",
    "function trace_out_y(V1::Float64,V2::Float64,epsilon::Float64)\n",
    "    y = [1.0, 1.0] #starting values: type 1.0 exerts zero effort\n",
    "    x = [0.0, 0.0]\n",
    "    while y[end-1]>=y[end]>m && x[end]<V1/m #checks monotonicty, that types are in [m,1] and that effort cannot be higher than possible prizes\n",
    "        push!(y,y[end]+epsilon*foc_yp(x[end],y[end],V1,V2))\n",
    "        push!(x,x[end]+epsilon)\n",
    "    end\n",
    "    #check monotonicity\n",
    "    if y[end]>m+0.01\n",
    "        println(\"a monotone equilibrium was not attained at V1 = \",V1,\" and V2 = \",V2)\n",
    "    else\n",
    "        return interpolate((reverse(y),),reverse(x),Gridded(Linear()))\n",
    "    end\n",
    "end\n",
    "\n",
    "test = trace_out_y(0.9,0.1,0.01)\n",
    "\n",
    "###designer's problem###\n",
    "#this function returns the expected effort of a participant multiplied with -1 (as the optimization procedure below searches for the minimum)\n",
    "function minusobjective(V1::Float64)\n",
    "    bidding = trace_out_y(V1,1.0-V1,0.001)\n",
    "    function wrapped_objective(c::Float64)\n",
    "        return bidding[c]*f(c) \n",
    "    end\n",
    "    return (-1.0)*quadgk(wrapped_objective,m,1)[1]\n",
    "end\n",
    "\n",
    "#result to optimization problem (minimizes \"minusobjective\" with W1 between u(0.5) and u(1.0); note that V1 cannot be less than 0.5)\n",
    "r = optimize(minusobjective,0.5,1.0)\n",
    "\n",
    "println(\" \")\n",
    "println(\"Optimal first prize is \", r.minimum)\n",
    "println(\"Optimal second prize is \", 1.0-r.minimum)\n",
    "\n",
    "#for plotting: returns average effort of a contestant if first prize is V1\n",
    "function plotobjective(V1::Float64)\n",
    "    return (-1.0)*minusobjective(V1)\n",
    "end\n",
    "function plotobjective(V1::FloatRange{Float64})\n",
    "    return [(-1.0)*minusobjective(v) for v in V1]\n",
    "end\n",
    "\n",
    "fig, ax = subplots()\n",
    "ax[:set_xlabel](\"first prize\")\n",
    "ax[:set_ylabel](\"expected effort\")\n",
    "ax[:plot](0.0:0.01:1.0,plotobjective(0.0:0.01:1.0),\"b-\",linewidth=2,alpha=0.5)\n",
    "\n"
   ]
  },
  {
   "cell_type": "code",
   "execution_count": 1,
   "metadata": {
    "collapsed": false
   },
   "outputs": [
    {
     "ename": "LoadError",
     "evalue": "LoadError: UndefVarError: b not defined\nwhile loading In[1], in expression starting on line 22",
     "output_type": "error",
     "traceback": [
      "LoadError: UndefVarError: b not defined\nwhile loading In[1], in expression starting on line 22",
      ""
     ]
    }
   ],
   "source": [
    "using Roots\n",
    "\n",
    "function binv(W1::Float64,W2::Float64,bid::Float64)\n",
    "    function wrapper(c::Float64)\n",
    "        return b(W1,W2,c)-bid\n",
    "    end\n",
    "    fzero(wrapper,m,1)\n",
    "end\n",
    "\n",
    "function minus_agent_obj(W1::Float64,W2::Float64,c::Float64,x::Float64)\n",
    "    return (-1.0)*(W1*(1-F(binv(W1,W2,x)))^(k-1)+(k-1)*W2*F(binv(W1,W2,x))*(1-F(binv(W1,W2,x)))^(k-2)-c*x)\n",
    "end\n",
    "\n",
    "function optimal_x(W1::Float64,W2::Float64,c::Float64)\n",
    "    function wrapper(x::Float64)\n",
    "        return minus_agent_obj(W1,W2,c,x)\n",
    "    end\n",
    "    r = optimize(wrapper,0.0,b(W1,W2,m))\n",
    "    return r.minimum\n",
    "end\n",
    "\n",
    "println(\"for c= 0.95, optimal bid is \",b(1.0,0.0,0.75),\"  best response bid is \",optimal_x(1.0,0.0,0.75))\n",
    "\n",
    "function plotbinv(x)\n",
    "    return binv(1.0,0.0,x)\n",
    "end\n",
    "function plotb(C)\n",
    "    return [b(1.0,0.0,c) for c in C]\n",
    "end\n",
    "plot(m:0.01:1.0,plotb(m:0.01:1.0))\n"
   ]
  },
  {
   "cell_type": "code",
   "execution_count": 4,
   "metadata": {
    "collapsed": false
   },
   "outputs": [
    {
     "data": {
      "text/plain": [
       "e = 2.7182818284590..."
      ]
     },
     "execution_count": 4,
     "metadata": {},
     "output_type": "execute_result"
    }
   ],
   "source": [
    "e"
   ]
  },
  {
   "cell_type": "code",
   "execution_count": null,
   "metadata": {
    "collapsed": true
   },
   "outputs": [],
   "source": []
  }
 ],
 "metadata": {
  "kernelspec": {
   "display_name": "Julia 0.4.3",
   "language": "julia",
   "name": "julia-0.4"
  },
  "language_info": {
   "file_extension": ".jl",
   "mimetype": "application/julia",
   "name": "julia",
   "version": "0.4.5"
  }
 },
 "nbformat": 4,
 "nbformat_minor": 0
}
